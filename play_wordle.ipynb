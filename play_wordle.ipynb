{
 "cells": [
  {
   "cell_type": "code",
   "execution_count": null,
   "id": "4c6eb20c-b2fd-4c29-8978-c534e7d2af8b",
   "metadata": {},
   "outputs": [],
   "source": [
    "from wordle_frontend import *\n",
    "from wordle_backend import *\n",
    "\n",
    "game_state = initialise_game( all_words_file = \"english_dict.txt\", \n",
    "                     wordle_words_file= \"wordle_words.txt\", \n",
    "                     secret_word = None,\n",
    "                     max_guesses = 6,\n",
    "                     word_length = 5)\n",
    "\n",
    "run_game_notebook(game_state)"
   ]
  },
  {
   "cell_type": "code",
   "execution_count": null,
   "id": "a84f77a1-a5d0-4fb1-821f-2cd99ce3e938",
   "metadata": {},
   "outputs": [],
   "source": []
  }
 ],
 "metadata": {
  "kernelspec": {
   "display_name": "Python 3 (ipykernel)",
   "language": "python",
   "name": "python3"
  },
  "language_info": {
   "codemirror_mode": {
    "name": "ipython",
    "version": 3
   },
   "file_extension": ".py",
   "mimetype": "text/x-python",
   "name": "python",
   "nbconvert_exporter": "python",
   "pygments_lexer": "ipython3",
   "version": "3.12.3"
  }
 },
 "nbformat": 4,
 "nbformat_minor": 5
}
