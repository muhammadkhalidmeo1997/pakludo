{
 "cells": [
  {
   "cell_type": "code",
   "execution_count": 141,
   "metadata": {},
   "outputs": [],
   "source": [
    "import os\n",
    "import sys\n",
    "import pandas as pd\n",
    "import random\n",
    "import json\n",
    "import regex as re"
   ]
  },
  {
   "cell_type": "code",
   "execution_count": 12,
   "metadata": {},
   "outputs": [],
   "source": [
    "current_dir = os.path.dirname(os.path.realpath(\"python_coursework.ipynb\"))\n",
    "resource_dir = os.path.join(current_dir,\"resources\")"
   ]
  },
  {
   "cell_type": "code",
   "execution_count": null,
   "metadata": {},
   "outputs": [],
   "source": [
    "global game_state\n",
    "game_state = {}\n",
    "\n"
   ]
  },
  {
   "cell_type": "code",
   "execution_count": 111,
   "metadata": {},
   "outputs": [],
   "source": [
    "global game_history\n",
    "game_history = []"
   ]
  },
  {
   "cell_type": "code",
   "execution_count": 37,
   "metadata": {},
   "outputs": [
    {
     "data": {
      "text/plain": [
       "[0, 0, 0, 0, 0, 0]"
      ]
     },
     "execution_count": 37,
     "metadata": {},
     "output_type": "execute_result"
    }
   ],
   "source": [
    "[0] *6"
   ]
  },
  {
   "cell_type": "code",
   "execution_count": 143,
   "metadata": {},
   "outputs": [],
   "source": [
    "def persist_game_stats(game_state):\n",
    "    with open(\"game_stats.json\", \"w\") as file:\n",
    "        json.dump(game_state, file)"
   ]
  },
  {
   "cell_type": "code",
   "execution_count": null,
   "metadata": {},
   "outputs": [],
   "source": [
    "def get_secret_word(wordle_words_file, word_length):\n",
    "    secret_word = ''\n",
    "    file_name = os.path.join(resource_dir,wordle_words_file)\n",
    "    if os.path.isfile(file_name):\n",
    "        with open(file_name, 'r') as file:\n",
    "            lines = [line.strip() for line in file.readlines() if len(line.strip())==word_length]\n",
    "            if len(lines)==0:\n",
    "                raise Exception(\"No valid words in wordle words file\")\n",
    "            else:\n",
    "                secret_word = random.choice(lines)\n",
    "    else:\n",
    "        raise Exception(\"File is not found Error\")\n",
    "    return secret_word"
   ]
  },
  {
   "cell_type": "code",
   "execution_count": 3,
   "metadata": {},
   "outputs": [
    {
     "data": {
      "text/plain": [
       "['', '', '', '', '']"
      ]
     },
     "execution_count": 3,
     "metadata": {},
     "output_type": "execute_result"
    }
   ],
   "source": [
    "['']*5"
   ]
  },
  {
   "cell_type": "code",
   "execution_count": null,
   "metadata": {},
   "outputs": [
    {
     "data": {
      "text/plain": [
       "'stare'"
      ]
     },
     "execution_count": 150,
     "metadata": {},
     "output_type": "execute_result"
    }
   ],
   "source": [
    "special_char = re.findall(r\"[^a-zA-Z0-9]+\", 'stare+')\n",
    "index = \"stare+\".find(special_char[0])\n",
    "word_str = \"stare+\"[:index]\n"
   ]
  },
  {
   "cell_type": "code",
   "execution_count": 147,
   "metadata": {},
   "outputs": [
    {
     "data": {
      "text/plain": [
       "['stare', '']"
      ]
     },
     "execution_count": 147,
     "metadata": {},
     "output_type": "execute_result"
    }
   ],
   "source": [
    "re.split(r\"[^a-zA-Z0-9]+\", 'stare+')"
   ]
  },
  {
   "cell_type": "code",
   "execution_count": 112,
   "metadata": {},
   "outputs": [],
   "source": [
    "def initialize_game_history(max_guesses):\n",
    "    game_hist_len =  int(max_guesses)+1\n",
    "    game_history_list = [0] * game_hist_len\n",
    "    with open('game_history.txt','w') as f:\n",
    "        f.write(\",\".join(map(str,game_history_list)))\n",
    "    game_history.append({'game_hist_length':game_hist_len,'game_hist_list':game_history_list,\n",
    "    'old_game_hist_list':[]})\n",
    "    print(game_history)"
   ]
  },
  {
   "cell_type": "code",
   "execution_count": 121,
   "metadata": {},
   "outputs": [],
   "source": [
    "def update_guess_limit_in_hist(game_history,game_state):\n",
    "    max_guess_limit=game_state['max_guesses']\n",
    "    game_hist_len = len(game_history)\n",
    "    max_guess_hist = game_history[game_hist_len-1]['game_hist_length']\n",
    "    game_history_list = game_history[game_hist_len-1]['game_hist_list'].copy()\n",
    "    if max_guess_hist-1 != max_guess_limit:\n",
    "        new_guess_hist_limit = int(max_guess_limit)+1\n",
    "        new_list_size = new_guess_hist_limit-max_guess_hist\n",
    "        extendable_list = [0]*new_list_size\n",
    "        old_game_hist_list = game_history_list.copy()\n",
    "        game_history_list.extend(extendable_list)\n",
    "        game_history.append({'game_hist_length':new_guess_hist_limit,'game_hist_list':game_history_list,\n",
    "                             'old_game_hist_list':old_game_hist_list})\n",
    "        with open('game_history.txt','w') as f:\n",
    "            f.write(\",\".join(map(str,game_history_list)))\n"
   ]
  },
  {
   "cell_type": "code",
   "execution_count": 132,
   "metadata": {},
   "outputs": [],
   "source": [
    "def update_game_history(game_history,game_state):\n",
    "    game_status = game_state['status']\n",
    "    game_hist_len = len(game_history)\n",
    "    game_history_list = game_history[game_hist_len-1]['game_hist_list'].copy()\n",
    "    if game_status == 'lost':\n",
    "        game_history_list[0]+=1\n",
    "    elif game_status == 'won':\n",
    "        guess_count = int(game_state['i'])+1\n",
    "        game_history_list[guess_count]+=1\n",
    "    game_history[game_hist_len-1]['game_hist_list'] = game_history_list\n",
    "    with open('game_history.txt','w') as f:\n",
    "        f.write(\",\".join(map(str,game_history_list)))\n",
    "    print(game_history)"
   ]
  },
  {
   "cell_type": "code",
   "execution_count": 114,
   "metadata": {},
   "outputs": [
    {
     "name": "stdout",
     "output_type": "stream",
     "text": [
      "[{'game_hist_length': 7, 'game_hist_list': [0, 0, 0, 0, 0, 0, 0], 'old_game_hist_list': []}]\n"
     ]
    }
   ],
   "source": [
    "initialize_game_history(6)"
   ]
  },
  {
   "cell_type": "code",
   "execution_count": 124,
   "metadata": {},
   "outputs": [],
   "source": [
    "game_state['status']='won'\n",
    "game_state['i'] = 3"
   ]
  },
  {
   "cell_type": "code",
   "execution_count": 126,
   "metadata": {},
   "outputs": [
    {
     "data": {
      "text/plain": [
       "([{'game_hist_length': 7,\n",
       "   'game_hist_list': [0, 0, 0, 0, 0, 0, 0],\n",
       "   'old_game_hist_list': []},\n",
       "  {'game_hist_length': 8,\n",
       "   'game_hist_list': [0, 0, 0, 0, 0, 0, 0, 0],\n",
       "   'old_game_hist_list': [0, 0, 0, 0, 0, 0, 0]}],\n",
       " {'secret_word': 'lunge',\n",
       "  'word_length': 5,\n",
       "  'max_guesses': 7,\n",
       "  'grid': [['', '', '', '', ''],\n",
       "   ['', '', '', '', ''],\n",
       "   ['', '', '', '', ''],\n",
       "   ['', '', '', '', ''],\n",
       "   ['', '', '', '', ''],\n",
       "   ['', '', '', '', ''],\n",
       "   ['', '', '', '', '']],\n",
       "  'color_grid': [['w', 'w', 'w', 'w', 'w'],\n",
       "   ['w', 'w', 'w', 'w', 'w'],\n",
       "   ['w', 'w', 'w', 'w', 'w'],\n",
       "   ['w', 'w', 'w', 'w', 'w'],\n",
       "   ['w', 'w', 'w', 'w', 'w'],\n",
       "   ['w', 'w', 'w', 'w', 'w'],\n",
       "   ['w', 'w', 'w', 'w', 'w']],\n",
       "  'i': 3,\n",
       "  'j': 0,\n",
       "  'status': 'won',\n",
       "  'wordle_words_file': 'wordle_words.txt',\n",
       "  'all_words_file': 'english_dict.txt',\n",
       "  'popup_queue': [],\n",
       "  'active_letters': {'A': True,\n",
       "   'B': True,\n",
       "   'C': True,\n",
       "   'D': True,\n",
       "   'E': True,\n",
       "   'F': True,\n",
       "   'G': True,\n",
       "   'H': True,\n",
       "   'I': True,\n",
       "   'J': True,\n",
       "   'K': True,\n",
       "   'L': True,\n",
       "   'M': True,\n",
       "   'N': True,\n",
       "   'O': True,\n",
       "   'P': True,\n",
       "   'Q': True,\n",
       "   'R': True,\n",
       "   'S': True,\n",
       "   'T': True,\n",
       "   'U': True,\n",
       "   'V': True,\n",
       "   'W': True,\n",
       "   'X': True,\n",
       "   'Y': True,\n",
       "   'Z': True}})"
      ]
     },
     "execution_count": 126,
     "metadata": {},
     "output_type": "execute_result"
    }
   ],
   "source": [
    "\n",
    "game_history,game_state"
   ]
  },
  {
   "cell_type": "code",
   "execution_count": 133,
   "metadata": {},
   "outputs": [
    {
     "name": "stdout",
     "output_type": "stream",
     "text": [
      "[{'game_hist_length': 7, 'game_hist_list': [0, 0, 0, 0, 0, 0, 0], 'old_game_hist_list': []}, {'game_hist_length': 8, 'game_hist_list': [0, 0, 0, 0, 2, 0, 0, 0], 'old_game_hist_list': [0, 0, 0, 0, 0, 0, 0]}]\n"
     ]
    }
   ],
   "source": [
    "update_game_history(game_history,game_state)"
   ]
  },
  {
   "cell_type": "code",
   "execution_count": null,
   "metadata": {},
   "outputs": [],
   "source": [
    "def initialize_game(all_words_file, wordle_words_file=None,secret_word=None, max_guesses=6,word_length=5):\n",
    "    game_state ={}\n",
    "    try:\n",
    "        if os.path.exists(\"game_state.json\"):\n",
    "            with open(\"game_state.json\", \"r\") as file:\n",
    "                game_state = json.load(file)\n",
    "        else:\n",
    "            initialize_game_history(max_guesses)\n",
    "            if wordle_words_file is None:\n",
    "                wordle_words_file = 'wordle_words.txt'\n",
    "            if all_words_file is None:\n",
    "                all_words_file = 'english_dict.txt'\n",
    "            if secret_word is None:\n",
    "                secret =  get_secret_word(wordle_words_file, word_length)\n",
    "            else:\n",
    "                if len(secret_word)==word_length:\n",
    "                    secret = secret_word\n",
    "                else:\n",
    "                    raise Exception(\"The secret word is not of the correct length\")\n",
    "            if max_guesses == 0:\n",
    "                raise Exception(\"Max guesses must be 1 or more\")\n",
    "            if word_length == 0:\n",
    "                raise Exception(\"Word length must be 1 letter or more\")\n",
    "            \n",
    "            game_state['secret_word'] = secret\n",
    "            game_state['word_length'] = word_length\n",
    "            game_state['max_guesses'] = max_guesses\n",
    "\n",
    "            guess_nested_list = []\n",
    "            for i in range(max_guesses):\n",
    "                guess_list = [''] * int(word_length)\n",
    "                guess_nested_list.append(guess_list)\n",
    "            game_state['grid'] = guess_nested_list\n",
    "            color_nested_list = []\n",
    "            for i in range(max_guesses):\n",
    "                color_list = ['w'] * int(word_length)\n",
    "                color_nested_list.append(color_list)\n",
    "            #print(f\"Color List : {color_nested_list}\")\n",
    "            game_state['color_grid'] = color_nested_list\n",
    "            game_state['i'] = 0\n",
    "            game_state['j'] = 0\n",
    "            game_state['status'] = 'playing'\n",
    "            game_state['wordle_words_file'] = 'wordle_words.txt'\n",
    "            game_state['all_words_file'] = all_words_file\n",
    "            game_state['popup_queue'] = []\n",
    "            game_state['active_letters'] = {\n",
    "                \"A\": True, \"B\": True, \"C\": True, \"D\": True, \"E\": True, \"F\": True, \n",
    "                \"G\": True, \"H\": True, \"I\": True, \"J\": True, \"K\": True, \"L\": True, \n",
    "                \"M\": True, \"N\": True, \"O\": True, \"P\": True, \"Q\": True, \"R\": True, \n",
    "                \"S\": True, \"T\": True, \"U\": True, \"V\": True, \"W\": True, \"X\": True, \n",
    "                \"Y\": True, \"Z\": True\n",
    "            }\n",
    "            update_guess_limit_in_hist(game_history=game_history,game_state=game_state)\n",
    "    except KeyboardInterrupt as err:\n",
    "        persist_game_stats(game_state)\n",
    "        print(str(err))\n",
    "    except SystemExit as sysexit:\n",
    "        persist_game_stats(game_state)\n",
    "        print(str(sysexit))\n",
    "    except Exception as e:\n",
    "        persist_game_stats(game_state)\n",
    "        print(str(e))\n",
    "    return game_state\n",
    "\n",
    "\n"
   ]
  },
  {
   "cell_type": "code",
   "execution_count": 25,
   "metadata": {},
   "outputs": [
    {
     "data": {
      "text/plain": [
       "{'secret_word': 'gravy',\n",
       " 'word_length': 6,\n",
       " 'max_guesses': 7,\n",
       " 'grid': [['', '', '', '', '', ''],\n",
       "  ['', '', '', '', '', ''],\n",
       "  ['', '', '', '', '', ''],\n",
       "  ['', '', '', '', '', ''],\n",
       "  ['', '', '', '', '', ''],\n",
       "  ['', '', '', '', '', ''],\n",
       "  ['', '', '', '', '', '']],\n",
       " 'color_grid': [['w', 'w', 'w', 'w', 'w', 'w'],\n",
       "  ['w', 'w', 'w', 'w', 'w', 'w'],\n",
       "  ['w', 'w', 'w', 'w', 'w', 'w'],\n",
       "  ['w', 'w', 'w', 'w', 'w', 'w'],\n",
       "  ['w', 'w', 'w', 'w', 'w', 'w'],\n",
       "  ['w', 'w', 'w', 'w', 'w', 'w'],\n",
       "  ['w', 'w', 'w', 'w', 'w', 'w']],\n",
       " 'i': 0,\n",
       " 'j': 0,\n",
       " 'status': 'playing',\n",
       " 'wordle_words_file': 'wordle_words.txt',\n",
       " 'all_words_file': 'english_dict.txt',\n",
       " 'popup_queue': [],\n",
       " 'active_letters': {'A': True,\n",
       "  'B': True,\n",
       "  'C': True,\n",
       "  'D': True,\n",
       "  'E': True,\n",
       "  'F': True,\n",
       "  'G': True,\n",
       "  'H': True,\n",
       "  'I': True,\n",
       "  'J': True,\n",
       "  'K': True,\n",
       "  'L': True,\n",
       "  'M': True,\n",
       "  'N': True,\n",
       "  'O': True,\n",
       "  'P': True,\n",
       "  'Q': True,\n",
       "  'R': True,\n",
       "  'S': True,\n",
       "  'T': True,\n",
       "  'U': True,\n",
       "  'V': True,\n",
       "  'W': True,\n",
       "  'X': True,\n",
       "  'Y': True,\n",
       "  'Z': True}}"
      ]
     },
     "execution_count": 25,
     "metadata": {},
     "output_type": "execute_result"
    }
   ],
   "source": [
    "game_state"
   ]
  },
  {
   "cell_type": "code",
   "execution_count": 119,
   "metadata": {},
   "outputs": [
    {
     "name": "stdout",
     "output_type": "stream",
     "text": [
      "['cigar', 'rebut', 'sissy', 'humph', 'awake', 'blush', 'focal', 'evade', 'naval', 'serve', 'heath', 'dwarf', 'model', 'karma', 'stink', 'grade', 'quiet', 'bench', 'abate', 'feign', 'major', 'death', 'fresh', 'crust', 'stool', 'colon', 'abase', 'marry', 'react', 'batty', 'pride', 'floss', 'helix', 'croak', 'staff', 'paper', 'unfed', 'whelp', 'trawl', 'outdo', 'adobe', 'crazy', 'sower', 'repay', 'digit', 'crate', 'cluck', 'spike', 'mimic', 'pound', 'maxim', 'linen', 'unmet', 'flesh', 'booby', 'forth', 'first', 'stand', 'belly', 'ivory', 'seedy', 'print', 'yearn', 'drain', 'bribe', 'stout', 'panel', 'crass', 'flume', 'offal', 'agree', 'error', 'swirl', 'argue', 'bleed', 'delta', 'flick', 'totem', 'wooer', 'front', 'shrub', 'parry', 'biome', 'lapel', 'start', 'greet', 'goner', 'golem', 'lusty', 'loopy', 'round', 'audit', 'lying', 'gamma', 'labor', 'islet', 'civic', 'forge', 'corny', 'moult', 'basic', 'salad', 'agate', 'spicy', 'spray', 'essay', 'fjord', 'spend', 'kebab', 'guild', 'aback', 'motor', 'alone', 'hatch', 'hyper', 'thumb', 'dowry', 'ought', 'belch', 'dutch', 'pilot', 'tweed', 'comet', 'jaunt', 'enema', 'steed', 'abyss', 'growl', 'fling', 'dozen', 'boozy', 'erode', 'world', 'gouge', 'click', 'briar', 'great', 'altar', 'pulpy', 'blurt', 'coast', 'duchy', 'groin', 'fixer', 'group', 'rogue', 'badly', 'smart', 'pithy', 'gaudy', 'chill', 'heron', 'vodka', 'finer', 'surer', 'radio', 'rouge', 'perch', 'retch', 'wrote', 'clock', 'tilde', 'store', 'prove', 'bring', 'solve', 'cheat', 'grime', 'exult', 'usher', 'epoch', 'triad', 'break', 'rhino', 'viral', 'conic', 'masse', 'sonic', 'vital', 'trace', 'using', 'peach', 'champ', 'baton', 'brake', 'pluck', 'craze', 'gripe', 'weary', 'picky', 'acute', 'ferry', 'aside', 'tapir', 'troll', 'unify', 'rebus', 'boost', 'truss', 'siege', 'tiger', 'banal', 'slump', 'crank', 'gorge', 'query', 'drink', 'favor', 'abbey', 'tangy', 'panic', 'solar', 'shire', 'proxy', 'point', 'robot', 'prick', 'wince', 'crimp', 'knoll', 'sugar', 'whack', 'mount', 'perky', 'could', 'wrung', 'light', 'those', 'moist', 'shard', 'pleat', 'aloft', 'skill', 'elder', 'frame', 'humor', 'pause', 'ulcer', 'ultra', 'robin', 'cynic', 'aroma', 'caulk', 'shake', 'dodge', 'swill', 'tacit', 'other', 'thorn', 'trove', 'bloke', 'vivid', 'spill', 'chant', 'choke', 'rupee', 'nasty', 'mourn', 'ahead', 'brine', 'cloth', 'hoard', 'sweet', 'month', 'lapse', 'watch', 'today', 'focus', 'smelt', 'tease', 'cater', 'movie', 'saute', 'allow', 'renew', 'their', 'slosh', 'purge', 'chest', 'depot', 'epoxy', 'nymph', 'found', 'shall', 'harry', 'stove', 'lowly', 'snout', 'trope', 'fewer', 'shawl', 'natal', 'comma', 'foray', 'scare', 'stair', 'black', 'squad', 'royal', 'chunk', 'mince', 'shame', 'cheek', 'ample', 'flair', 'foyer', 'cargo', 'oxide', 'plant', 'olive', 'inert', 'askew', 'heist', 'shown', 'zesty', 'hasty', 'trash', 'fella', 'larva', 'forgo', 'story', 'hairy', 'train', 'homer', 'badge', 'midst', 'canny', 'fetus', 'butch', 'farce', 'slung', 'tipsy', 'metal', 'yield', 'delve', 'being', 'scour', 'glass', 'gamer', 'scrap', 'money', 'hinge', 'album', 'vouch', 'asset', 'tiara', 'crept', 'bayou', 'atoll', 'manor', 'creak', 'showy', 'phase', 'froth', 'depth', 'gloom', 'flood', 'trait', 'girth', 'piety', 'payer', 'goose', 'float', 'donor', 'atone', 'primo', 'apron', 'blown', 'cacao', 'loser', 'input', 'gloat', 'awful', 'brink', 'smite', 'beady', 'rusty', 'retro', 'droll', 'gawky', 'hutch', 'pinto', 'gaily', 'egret', 'lilac', 'sever', 'field', 'fluff', 'hydro', 'flack', 'agape', 'voice', 'stead', 'stalk', 'berth', 'madam', 'night', 'bland', 'liver', 'wedge', 'augur', 'roomy', 'wacky', 'flock', 'angry', 'bobby', 'trite', 'aphid', 'tryst', 'midge', 'power', 'elope', 'cinch', 'motto', 'stomp', 'upset', 'bluff', 'cramp', 'quart', 'coyly', 'youth', 'rhyme', 'buggy', 'alien', 'smear', 'unfit', 'patty', 'cling', 'glean', 'label', 'hunky', 'khaki', 'poker', 'gruel', 'twice', 'twang', 'shrug', 'treat', 'unlit', 'waste', 'merit', 'woven', 'octal', 'needy', 'clown', 'widow', 'irony', 'ruder', 'gauze', 'chief', 'onset', 'prize', 'fungi', 'charm', 'gully', 'inter', 'whoop', 'taunt', 'leery', 'class', 'theme', 'lofty', 'tibia', 'booze', 'alpha', 'thyme', 'eclat', 'doubt', 'parer', 'chute', 'stick', 'trice', 'alike', 'sooth', 'recap', 'saint', 'liege', 'glory', 'grate', 'admit', 'brisk', 'soggy', 'usurp', 'scald', 'scorn', 'leave', 'twine', 'sting', 'bough', 'marsh', 'sloth', 'dandy', 'vigor', 'howdy', 'enjoy', 'valid', 'ionic', 'equal', 'unset', 'floor', 'catch', 'spade', 'stein', 'exist', 'quirk', 'denim', 'grove', 'spiel', 'mummy', 'fault', 'foggy', 'flout', 'carry', 'sneak', 'libel', 'waltz', 'aptly', 'piney', 'inept', 'aloud', 'photo', 'dream', 'stale', 'vomit', 'ombre', 'fanny', 'unite', 'snarl', 'baker', 'there', 'glyph', 'pooch', 'hippy', 'spell', 'folly', 'louse', 'gulch', 'vault', 'godly', 'threw', 'fleet', 'grave', 'inane', 'shock', 'crave', 'spite', 'valve', 'skimp', 'claim', 'rainy', 'musty', 'pique', 'daddy', 'quasi', 'arise', 'aging', 'valet', 'opium', 'avert', 'stuck', 'recut', 'mulch', 'genre', 'plume', 'rifle', 'count', 'incur', 'total', 'wrest', 'mocha', 'deter', 'study', 'lover', 'safer', 'rivet', 'funny', 'smoke', 'mound', 'undue', 'sedan', 'pagan', 'swine', 'guile', 'gusty', 'equip', 'tough', 'canoe', 'chaos', 'covet', 'human', 'udder', 'lunch', 'blast', 'stray', 'manga', 'melee', 'lefty', 'quick', 'paste', 'given', 'octet', 'risen', 'groan', 'leaky', 'grind', 'carve', 'loose', 'sadly', 'spilt', 'apple', 'slack', 'honey', 'final', 'sheen', 'eerie', 'minty', 'slick', 'derby', 'wharf', 'spelt', 'coach', 'erupt', 'singe', 'price', 'spawn', 'fairy', 'jiffy', 'filmy', 'stack', 'chose', 'sleep', 'ardor', 'nanny', 'niece', 'woozy', 'handy', 'grace', 'ditto', 'stank', 'cream', 'usual', 'diode', 'valor', 'angle', 'ninja', 'muddy', 'chase', 'reply', 'prone', 'spoil', 'heart', 'shade', 'diner', 'arson', 'onion', 'sleet', 'dowel', 'couch', 'palsy', 'bowel', 'smile', 'evoke', 'creek', 'lance', 'eagle', 'idiot', 'siren', 'built', 'embed', 'award', 'dross', 'annul', 'goody', 'frown', 'patio', 'laden', 'humid', 'elite', 'lymph', 'edify', 'might', 'reset', 'visit', 'gusto', 'purse', 'vapor', 'crock', 'write', 'sunny', 'loath', 'chaff', 'slide', 'queer', 'venom', 'stamp', 'sorry', 'still', 'acorn', 'aping', 'pushy', 'tamer', 'hater', 'mania', 'awoke', 'brawn', 'swift', 'exile', 'birch', 'lucky', 'freer', 'risky', 'ghost', 'plier', 'lunar', 'winch', 'snare', 'nurse', 'house', 'borax', 'nicer', 'lurch', 'exalt', 'about', 'savvy', 'toxin', 'tunic', 'pried', 'inlay', 'chump', 'lanky', 'cress', 'eater', 'elude', 'cycle', 'kitty', 'boule', 'moron', 'tenet', 'place', 'lobby', 'plush', 'vigil', 'index', 'blink', 'clung', 'qualm', 'croup', 'clink', 'juicy', 'stage', 'decay', 'nerve', 'flier', 'shaft', 'crook', 'clean', 'china', 'ridge', 'vowel', 'gnome', 'snuck', 'icing', 'spiny', 'rigor', 'snail', 'flown', 'rabid', 'prose', 'thank', 'poppy', 'budge', 'fiber', 'moldy', 'dowdy', 'kneel', 'track', 'caddy', 'quell', 'dumpy', 'paler', 'swore', 'rebar', 'scuba', 'splat', 'flyer', 'horny', 'mason', 'doing', 'ozone', 'amply', 'molar', 'ovary', 'beset', 'queue', 'cliff', 'magic', 'truce', 'sport', 'fritz', 'edict', 'twirl', 'verse', 'llama', 'eaten', 'range', 'whisk', 'hovel', 'rehab', 'macaw', 'sigma', 'spout', 'verve', 'sushi', 'dying', 'fetid', 'brain', 'buddy', 'thump', 'scion', 'candy', 'chord', 'basin', 'march', 'crowd', 'arbor', 'gayly', 'musky', 'stain', 'dally', 'bless', 'bravo', 'stung', 'title', 'ruler', 'kiosk', 'blond', 'ennui', 'layer', 'fluid', 'tatty', 'score', 'cutie', 'zebra', 'barge', 'matey', 'bluer', 'aider', 'shook', 'river', 'privy', 'betel', 'frisk', 'bongo', 'begun', 'azure', 'weave', 'genie', 'sound', 'glove', 'braid', 'scope', 'wryly', 'rover', 'assay', 'ocean', 'bloom', 'irate', 'later', 'woken', 'silky', 'wreck', 'dwelt', 'slate', 'smack', 'solid', 'amaze', 'hazel', 'wrist', 'jolly', 'globe', 'flint', 'rouse', 'civil', 'vista', 'relax', 'cover', 'alive', 'beech', 'jetty', 'bliss', 'vocal', 'often', 'dolly', 'eight', 'joker', 'since', 'event', 'ensue', 'shunt', 'diver', 'poser', 'worst', 'sweep', 'alley', 'creed', 'anime', 'leafy', 'bosom', 'dunce', 'stare', 'pudgy', 'waive', 'choir', 'stood', 'spoke', 'outgo', 'delay', 'bilge', 'ideal', 'clasp', 'seize', 'hotly', 'laugh', 'sieve', 'block', 'meant', 'grape', 'noose', 'hardy', 'shied', 'drawl', 'daisy', 'putty', 'strut', 'burnt', 'tulip', 'crick', 'idyll', 'vixen', 'furor', 'geeky', 'cough', 'naive', 'shoal', 'stork', 'bathe', 'aunty', 'check', 'prime', 'brass', 'outer', 'furry', 'razor', 'elect', 'evict', 'imply', 'demur', 'quota', 'haven', 'cavil', 'swear', 'crump', 'dough', 'gavel', 'wagon', 'salon', 'nudge', 'harem', 'pitch', 'sworn', 'pupil', 'excel', 'stony', 'cabin', 'unzip', 'queen', 'trout', 'polyp', 'earth', 'storm', 'until', 'taper', 'enter', 'child', 'adopt', 'minor', 'fatty', 'husky', 'brave', 'filet', 'slime', 'glint', 'tread', 'steal', 'regal', 'guest', 'every', 'murky', 'share', 'spore', 'hoist', 'buxom', 'inner', 'otter', 'dimly', 'level', 'sumac', 'donut', 'stilt', 'arena', 'sheet', 'scrub', 'fancy', 'slimy', 'pearl', 'silly', 'porch', 'dingo', 'sepia', 'amble', 'shady', 'bread', 'friar', 'reign', 'dairy', 'quill', 'cross', 'brood', 'tuber', 'shear', 'posit', 'blank', 'villa', 'shank', 'piggy', 'freak', 'which', 'among', 'fecal', 'shell', 'would', 'algae', 'large', 'rabbi', 'agony', 'amuse', 'bushy', 'copse', 'swoon', 'knife', 'pouch', 'ascot', 'plane', 'crown', 'urban', 'snide', 'relay', 'abide', 'viola', 'rajah', 'straw', 'dilly', 'crash', 'amass', 'third', 'trick', 'tutor', 'woody', 'blurb', 'grief', 'disco', 'where', 'sassy', 'beach', 'sauna', 'comic', 'clued', 'creep', 'caste', 'graze', 'snuff', 'frock', 'gonad', 'drunk', 'prong', 'lurid', 'steel', 'halve', 'buyer', 'vinyl', 'utile', 'smell', 'adage', 'worry', 'tasty', 'local', 'trade', 'finch', 'ashen', 'modal', 'gaunt', 'clove', 'enact', 'adorn', 'roast', 'speck', 'sheik', 'missy', 'grunt', 'snoop', 'party', 'touch', 'mafia', 'emcee', 'array', 'south', 'vapid', 'jelly', 'skulk', 'angst', 'tubal', 'lower', 'crest', 'sweat', 'cyber', 'adore', 'tardy', 'swami', 'notch', 'groom', 'roach', 'hitch', 'young', 'align', 'ready', 'frond', 'strap', 'puree', 'realm', 'venue', 'swarm', 'offer', 'seven', 'dryer', 'diary', 'dryly', 'drank', 'acrid', 'heady', 'theta', 'junto', 'pixie', 'quoth', 'bonus', 'shalt', 'penne', 'amend', 'datum', 'build', 'piano', 'shelf', 'lodge', 'suing', 'rearm', 'coral', 'ramen', 'worth', 'psalm', 'infer', 'overt', 'mayor', 'ovoid', 'glide', 'usage', 'poise', 'randy', 'chuck', 'prank', 'fishy', 'tooth', 'ether', 'drove', 'idler', 'swath', 'stint', 'while', 'begat', 'apply', 'slang', 'tarot', 'radar', 'credo', 'aware', 'canon', 'shift', 'timer', 'bylaw', 'serum', 'three', 'steak', 'iliac', 'shirk', 'blunt', 'puppy', 'penal', 'joist', 'bunny', 'shape', 'beget', 'wheel', 'adept', 'stunt', 'stole', 'topaz', 'chore', 'fluke', 'afoot', 'bloat', 'bully', 'dense', 'caper', 'sneer', 'boxer', 'jumbo', 'lunge', 'space', 'avail', 'short', 'slurp', 'loyal', 'flirt', 'pizza', 'conch', 'tempo', 'droop', 'plate', 'bible', 'plunk', 'afoul', 'savoy', 'steep', 'agile', 'stake', 'dwell', 'knave', 'beard', 'arose', 'motif', 'smash', 'broil', 'glare', 'shove', 'baggy', 'mammy', 'swamp', 'along', 'rugby', 'wager', 'quack', 'squat', 'snaky', 'debit', 'mange', 'skate', 'ninth', 'joust', 'tramp', 'spurn', 'medal', 'micro', 'rebel', 'flank', 'learn', 'nadir', 'maple', 'comfy', 'remit', 'gruff', 'ester', 'least', 'mogul', 'fetch', 'cause', 'oaken', 'aglow', 'meaty', 'gaffe', 'shyly', 'racer', 'prowl', 'thief', 'stern', 'poesy', 'rocky', 'tweet', 'waist', 'spire', 'grope', 'havoc', 'patsy', 'truly', 'forty', 'deity', 'uncle', 'swish', 'giver', 'preen', 'bevel', 'lemur', 'draft', 'slope', 'annoy', 'lingo', 'bleak', 'ditty', 'curly', 'cedar', 'dirge', 'grown', 'horde', 'drool', 'shuck', 'crypt', 'cumin', 'stock', 'gravy', 'locus', 'wider', 'breed', 'quite', 'chafe', 'cache', 'blimp', 'deign', 'fiend', 'logic', 'cheap', 'elide', 'rigid', 'false', 'renal', 'pence', 'rowdy', 'shoot', 'blaze', 'envoy', 'posse', 'brief', 'never', 'abort', 'mouse', 'mucky', 'sulky', 'fiery', 'media', 'trunk', 'yeast', 'clear', 'skunk', 'scalp', 'bitty', 'cider', 'koala', 'duvet', 'segue', 'creme', 'super', 'grill', 'after', 'owner', 'ember', 'reach', 'nobly', 'empty', 'speed', 'gipsy', 'recur', 'smock', 'dread', 'merge', 'burst', 'kappa', 'amity', 'shaky', 'hover', 'carol', 'snort', 'synod', 'faint', 'haunt', 'flour', 'chair', 'detox', 'shrew', 'tense', 'plied', 'quark', 'burly', 'novel', 'waxen', 'stoic', 'jerky', 'blitz', 'beefy', 'lyric', 'hussy', 'towel', 'quilt', 'below', 'bingo', 'wispy', 'brash', 'scone', 'toast', 'easel', 'saucy', 'value', 'spice', 'honor', 'route', 'sharp', 'bawdy', 'radii', 'skull', 'phony', 'issue', 'lager', 'swell', 'urine', 'gassy', 'trial', 'flora', 'upper', 'latch', 'wight', 'brick', 'retry', 'holly', 'decal', 'grass', 'shack', 'dogma', 'mover', 'defer', 'sober', 'optic', 'crier', 'vying', 'nomad', 'flute', 'hippo', 'shark', 'drier', 'obese', 'bugle', 'tawny', 'chalk', 'feast', 'ruddy', 'pedal', 'scarf', 'cruel', 'bleat', 'tidal', 'slush', 'semen', 'windy', 'dusty', 'sally', 'igloo', 'nerdy', 'jewel', 'shone', 'whale', 'hymen', 'abuse', 'fugue', 'elbow', 'crumb', 'pansy', 'welsh', 'syrup', 'terse', 'suave', 'gamut', 'swung', 'drake', 'freed', 'afire', 'shirt', 'grout', 'oddly', 'tithe', 'plaid', 'dummy', 'broom', 'blind', 'torch', 'enemy', 'again', 'tying', 'pesky', 'alter', 'gazer', 'noble', 'ethos', 'bride', 'extol', 'decor', 'hobby', 'beast', 'idiom', 'utter', 'these', 'sixth', 'alarm', 'erase', 'elegy', 'spunk', 'piper', 'scaly', 'scold', 'hefty', 'chick', 'sooty', 'canal', 'whiny', 'slash', 'quake', 'joint', 'swept', 'prude', 'heavy', 'wield', 'femme', 'lasso', 'maize', 'shale', 'screw', 'spree', 'smoky', 'whiff', 'scent', 'glade', 'spent', 'prism', 'stoke', 'riper', 'orbit', 'cocoa', 'guilt', 'humus', 'shush', 'table', 'smirk', 'wrong', 'noisy', 'alert', 'shiny', 'elate', 'resin', 'whole', 'hunch', 'pixel', 'polar', 'hotel', 'sword', 'cleat', 'mango', 'rumba', 'puffy', 'filly', 'billy', 'leash', 'clout', 'dance', 'ovate', 'facet', 'chili', 'paint', 'liner', 'curio', 'salty', 'audio', 'snake', 'fable', 'cloak', 'navel', 'spurt', 'pesto', 'balmy', 'flash', 'unwed', 'early', 'churn', 'weedy', 'stump', 'lease', 'witty', 'wimpy', 'spoof', 'saner', 'blend', 'salsa', 'thick', 'warty', 'manic', 'blare', 'squib', 'spoon', 'probe', 'crepe', 'knack', 'force', 'debut', 'order', 'haste', 'teeth', 'agent', 'widen', 'icily', 'slice', 'ingot', 'clash', 'juror', 'blood', 'abode', 'throw', 'unity', 'pivot', 'slept', 'troop', 'spare', 'sewer', 'parse', 'morph', 'cacti', 'tacky', 'spool', 'demon', 'moody', 'annex', 'begin', 'fuzzy', 'patch', 'water', 'lumpy', 'admin', 'omega', 'limit', 'tabby', 'macho', 'aisle', 'skiff', 'basis', 'plank', 'verge', 'botch', 'crawl', 'lousy', 'slain', 'cubic', 'raise', 'wrack', 'guide', 'foist', 'cameo', 'under', 'actor', 'revue', 'fraud', 'harpy', 'scoop', 'climb', 'refer', 'olden', 'clerk', 'debar', 'tally', 'ethic', 'cairn', 'tulle', 'ghoul', 'hilly', 'crude', 'apart', 'scale', 'older', 'plain', 'sperm', 'briny', 'abbot', 'rerun', 'quest', 'crisp', 'bound', 'befit', 'drawn', 'suite', 'itchy', 'cheer', 'bagel', 'guess', 'broad', 'axiom', 'chard', 'caput', 'leant', 'harsh', 'curse', 'proud', 'swing', 'opine', 'taste', 'lupus', 'gumbo', 'miner', 'green', 'chasm', 'lipid', 'topic', 'armor', 'brush', 'crane', 'mural', 'abled', 'habit', 'bossy', 'maker', 'dusky', 'dizzy', 'lithe', 'brook', 'jazzy', 'fifty', 'sense', 'giant', 'surly', 'legal', 'fatal', 'flunk', 'began', 'prune', 'small', 'slant', 'scoff', 'torus', 'ninny', 'covey', 'viper', 'taken', 'moral', 'vogue', 'owing', 'token', 'entry', 'booth', 'voter', 'chide', 'elfin', 'ebony', 'neigh', 'minim', 'melon', 'kneed', 'decoy', 'voila', 'ankle', 'arrow', 'mushy', 'tribe', 'cease', 'eager', 'birth', 'graph', 'odder', 'terra', 'weird', 'tried', 'clack', 'color', 'rough', 'weigh', 'uncut', 'ladle', 'strip', 'craft', 'minus', 'dicey', 'titan', 'lucid', 'vicar', 'dress', 'ditch', 'gypsy', 'pasta', 'taffy', 'flame', 'swoop', 'aloof', 'sight', 'broke', 'teary', 'chart', 'sixty', 'wordy', 'sheer', 'leper', 'nosey', 'bulge', 'savor', 'clamp', 'funky', 'foamy', 'toxic', 'brand', 'plumb', 'dingy', 'butte', 'drill', 'tripe', 'bicep', 'tenor', 'krill', 'worse', 'drama', 'hyena', 'think', 'ratio', 'cobra', 'basil', 'scrum', 'bused', 'phone', 'court', 'camel', 'proof', 'heard', 'angel', 'petal', 'pouty', 'throb', 'maybe', 'fetal', 'sprig', 'spine', 'shout', 'cadet', 'macro', 'dodgy', 'satyr', 'rarer', 'binge', 'trend', 'nutty', 'leapt', 'amiss', 'split', 'myrrh', 'width', 'sonar', 'tower', 'baron', 'fever', 'waver', 'spark', 'belie', 'sloop', 'expel', 'smote', 'baler', 'above', 'north', 'wafer', 'scant', 'frill', 'awash', 'snack', 'scowl', 'frail', 'drift', 'limbo', 'fence', 'motel', 'ounce', 'wreak', 'revel', 'talon', 'prior', 'knelt', 'cello', 'flake', 'debug', 'anode', 'crime', 'salve', 'scout', 'imbue', 'pinky', 'stave', 'vague', 'chock', 'fight', 'video', 'stone', 'teach', 'cleft', 'frost', 'prawn', 'booty', 'twist', 'apnea', 'stiff', 'plaza', 'ledge', 'tweak', 'board', 'grant', 'medic', 'bacon', 'cable', 'brawl', 'slunk', 'raspy', 'forum', 'drone', 'women', 'mucus', 'boast', 'toddy', 'coven', 'tumor', 'truer', 'wrath', 'stall', 'steam', 'axial', 'purer', 'daily', 'trail', 'niche', 'mealy', 'juice', 'nylon', 'plump', 'merry', 'flail', 'papal', 'wheat', 'berry', 'cower', 'erect', 'brute', 'leggy', 'snipe', 'sinew', 'skier', 'penny', 'jumpy', 'rally', 'umbra', 'scary', 'modem', 'gross', 'avian', 'greed', 'satin', 'tonic', 'parka', 'sniff', 'livid', 'stark', 'trump', 'giddy', 'reuse', 'taboo', 'avoid', 'quote', 'devil', 'liken', 'gloss', 'gayer', 'beret', 'noise', 'gland', 'dealt', 'sling', 'rumor', 'opera', 'thigh', 'tonga', 'flare', 'wound', 'white', 'bulky', 'etude', 'horse', 'circa', 'paddy', 'inbox', 'fizzy', 'grain', 'exert', 'surge', 'gleam', 'belle', 'salvo', 'crush', 'fruit', 'sappy', 'taker', 'tract', 'ovine', 'spiky', 'frank', 'reedy', 'filth', 'spasm', 'heave', 'mambo', 'right', 'clank', 'trust', 'lumen', 'borne', 'spook', 'sauce', 'amber', 'lathe', 'carat', 'corer', 'dirty', 'slyly', 'affix', 'alloy', 'taint', 'sheep', 'kinky', 'wooly', 'mauve', 'flung', 'yacht', 'fried', 'quail', 'brunt', 'grimy', 'curvy', 'cagey', 'rinse', 'deuce', 'state', 'grasp', 'milky', 'bison', 'graft', 'sandy', 'baste', 'flask', 'hedge', 'girly', 'swash', 'boney', 'coupe', 'endow', 'abhor', 'welch', 'blade', 'tight', 'geese', 'miser', 'mirth', 'cloud', 'cabal', 'leech', 'close', 'tenth', 'pecan', 'droit', 'grail', 'clone', 'guise', 'ralph', 'tango', 'biddy', 'smith', 'mower', 'payee', 'serif', 'drape', 'fifth', 'spank', 'glaze', 'allot', 'truck', 'kayak', 'virus', 'testy', 'tepee', 'fully', 'zonal', 'metro', 'curry', 'grand', 'banjo', 'axion', 'bezel', 'occur', 'chain', 'nasal', 'gooey', 'filer', 'brace', 'allay', 'pubic', 'raven', 'plead', 'gnash', 'flaky', 'munch', 'dully', 'eking', 'thing', 'slink', 'hurry', 'theft', 'shorn', 'pygmy', 'ranch', 'wring', 'lemon', 'shore', 'mamma', 'froze', 'newer', 'style', 'moose', 'antic', 'drown', 'vegan', 'chess', 'guppy', 'union', 'lever', 'lorry', 'image', 'cabby', 'druid', 'exact', 'truth', 'dopey', 'spear', 'cried', 'chime', 'crony', 'stunk', 'timid', 'batch', 'gauge', 'rotor', 'crack', 'curve', 'latte', 'witch', 'bunch', 'repel', 'anvil', 'soapy', 'meter', 'broth', 'madly', 'dried', 'scene', 'known', 'magma', 'roost', 'woman', 'thong', 'punch', 'pasty', 'downy', 'knead', 'whirl', 'rapid', 'clang', 'anger', 'drive', 'goofy', 'email', 'music', 'stuff', 'bleep', 'rider', 'mecca', 'folio', 'setup', 'verso', 'quash', 'fauna', 'gummy', 'happy', 'newly', 'fussy', 'relic', 'guava', 'ratty', 'fudge', 'femur', 'chirp', 'forte', 'alibi', 'whine', 'petty', 'golly', 'plait', 'fleck', 'felon', 'gourd', 'brown', 'thrum', 'ficus', 'stash', 'decry', 'wiser', 'junta', 'visor', 'daunt', 'scree', 'impel', 'await', 'press', 'whose', 'turbo', 'stoop', 'speak', 'mangy', 'eying', 'inlet', 'crone', 'pulse', 'mossy', 'staid', 'hence', 'pinch', 'teddy', 'sully', 'snore', 'ripen', 'snowy', 'attic', 'going', 'leach', 'mouth', 'hound', 'clump', 'tonal', 'bigot', 'peril', 'piece', 'blame', 'haute', 'spied', 'undid', 'intro', 'basal', 'shine', 'gecko', 'rodeo', 'guard', 'steer', 'loamy', 'scamp', 'scram', 'manly', 'hello', 'vaunt', 'organ', 'feral', 'knock', 'extra', 'condo', 'adapt', 'willy', 'polka', 'rayon', 'skirt', 'faith', 'torso', 'match', 'mercy', 'tepid', 'sleek', 'riser', 'twixt', 'peace', 'flush', 'catty', 'login', 'eject', 'roger', 'rival', 'untie', 'refit', 'aorta', 'adult', 'judge', 'rower', 'artsy', 'rural', 'shave']\n"
     ]
    },
    {
     "data": {
      "text/plain": [
       "{'secret_word': 'lunge',\n",
       " 'word_length': 5,\n",
       " 'max_guesses': 7,\n",
       " 'grid': [['', '', '', '', ''],\n",
       "  ['', '', '', '', ''],\n",
       "  ['', '', '', '', ''],\n",
       "  ['', '', '', '', ''],\n",
       "  ['', '', '', '', ''],\n",
       "  ['', '', '', '', ''],\n",
       "  ['', '', '', '', '']],\n",
       " 'color_grid': [['w', 'w', 'w', 'w', 'w'],\n",
       "  ['w', 'w', 'w', 'w', 'w'],\n",
       "  ['w', 'w', 'w', 'w', 'w'],\n",
       "  ['w', 'w', 'w', 'w', 'w'],\n",
       "  ['w', 'w', 'w', 'w', 'w'],\n",
       "  ['w', 'w', 'w', 'w', 'w'],\n",
       "  ['w', 'w', 'w', 'w', 'w']],\n",
       " 'i': 0,\n",
       " 'j': 0,\n",
       " 'status': 'playing',\n",
       " 'wordle_words_file': 'wordle_words.txt',\n",
       " 'all_words_file': 'english_dict.txt',\n",
       " 'popup_queue': [],\n",
       " 'active_letters': {'A': True,\n",
       "  'B': True,\n",
       "  'C': True,\n",
       "  'D': True,\n",
       "  'E': True,\n",
       "  'F': True,\n",
       "  'G': True,\n",
       "  'H': True,\n",
       "  'I': True,\n",
       "  'J': True,\n",
       "  'K': True,\n",
       "  'L': True,\n",
       "  'M': True,\n",
       "  'N': True,\n",
       "  'O': True,\n",
       "  'P': True,\n",
       "  'Q': True,\n",
       "  'R': True,\n",
       "  'S': True,\n",
       "  'T': True,\n",
       "  'U': True,\n",
       "  'V': True,\n",
       "  'W': True,\n",
       "  'X': True,\n",
       "  'Y': True,\n",
       "  'Z': True}}"
      ]
     },
     "execution_count": 119,
     "metadata": {},
     "output_type": "execute_result"
    }
   ],
   "source": [
    "game_state = initialize_game(all_words_file='english_dict.txt',max_guesses=7,word_length=5)\n",
    "game_state"
   ]
  },
  {
   "cell_type": "code",
   "execution_count": 120,
   "metadata": {},
   "outputs": [
    {
     "name": "stdout",
     "output_type": "stream",
     "text": [
      "max_guess_limit : 7\n",
      "game_hist_len is 1\n",
      "max_guess_hist : 7\n",
      "game_history_list : [0, 0, 0, 0, 0, 0, 0]\n",
      "new_guess_hist_limit : 8\n",
      "new_list_size : 1\n",
      "extendable_list : [0]\n",
      "new_game_history_list : [0, 0, 0, 0, 0, 0, 0, 0]\n",
      "game_history: [{'game_hist_length': 7, 'game_hist_list': [0, 0, 0, 0, 0, 0, 0], 'old_game_hist_list': []}, {'game_hist_length': 8, 'game_hist_list': [0, 0, 0, 0, 0, 0, 0, 0], 'old_game_hist_list': [0, 0, 0, 0, 0, 0, 0]}]\n"
     ]
    },
    {
     "data": {
      "text/plain": [
       "[{'game_hist_length': 7,\n",
       "  'game_hist_list': [0, 0, 0, 0, 0, 0, 0],\n",
       "  'old_game_hist_list': []},\n",
       " {'game_hist_length': 8,\n",
       "  'game_hist_list': [0, 0, 0, 0, 0, 0, 0, 0],\n",
       "  'old_game_hist_list': [0, 0, 0, 0, 0, 0, 0]}]"
      ]
     },
     "execution_count": 120,
     "metadata": {},
     "output_type": "execute_result"
    }
   ],
   "source": [
    "update_game_history(game_history=game_history, game_state=game_state)\n",
    "game_history"
   ]
  },
  {
   "cell_type": "code",
   "execution_count": null,
   "metadata": {},
   "outputs": [],
   "source": [
    "def show_popup(game_state, content, mode=\"text\"):\n",
    "    if mode ==\"text\":\n",
    "        game_state['popup_queue'].append((content, mode))\n",
    "    elif mode == \"history\":\n",
    "        print(f\"{content[0]} : Number of games lost:  \\n\")\n",
    "        for i in range(1, len(content)):\n",
    "            if content[i] > 0:\n",
    "                print(f\"{content[i]} : Number of games won in {i} Guess(es)\\n\")\n",
    "    return"
   ]
  },
  {
   "cell_type": "code",
   "execution_count": 166,
   "metadata": {},
   "outputs": [],
   "source": [
    "test_game_state = {\n",
    "    'secret_word':'serve',\n",
    "    'max_guesses':4,\n",
    "    'word_length':5,\n",
    "    'grid':[['s','h','i','n','e'],['s','h','i','u','r']],\n",
    "    'color_grid':[['g','-','-','-','g'],['g','-','-','-','y']]}"
   ]
  },
  {
   "cell_type": "code",
   "execution_count": 171,
   "metadata": {},
   "outputs": [
    {
     "name": "stdout",
     "output_type": "stream",
     "text": [
      "green letters: [{'char': 's', 'pos': 0}, {'char': 'e', 'pos': 4}, {'char': 's', 'pos': 0}]\n",
      "unique green list: [{'char': 'e', 'pos': 4}, {'char': 's', 'pos': 0}]\n",
      "hint list : \n",
      " ['sabre', 'saree', 'sarge', 'scare', 'score', 'scrae', 'scree', 'seare', 'serge', 'serre', 'share', 'shere', 'shire', 'shore', 'siree', 'skyre', 'smore', 'snare', 'snore', 'soare', 'soree', 'spare', 'spire', 'spore', 'spree', 'sprue', 'spyre', 'stare', 'stere', 'stire', 'store', 'strae', 'sture', 'styre', 'sucre', 'surge', 'sware', 'swire', 'swore']\n"
     ]
    }
   ],
   "source": [
    "hint_list = []\n",
    "green_letters = []\n",
    "green_letters_list = []\n",
    "green_letter_indices = []\n",
    "yellow_letters = []\n",
    "filter_words = []\n",
    "filtered_hint_list = []\n",
    "game_grid = test_game_state['grid']\n",
    "color_grid = test_game_state['color_grid']\n",
    "word_len = test_game_state['word_length']\n",
    "file_name = os.path.join(resource_dir,'english_dict.txt')\n",
    "for i,color_list in enumerate(color_grid):\n",
    "    for j,color in enumerate(color_list):\n",
    "        if color =='g':\n",
    "            green_letters.append({'char':game_grid[i][j],'pos':j})\n",
    "            green_letters_list.append(game_grid[i][j])\n",
    "            green_letter_indices.append(j)\n",
    "        elif color =='y':\n",
    "            yellow_letters.append(game_grid[i][j])\n",
    "\n",
    "print(f\"green letters: {green_letters}\")\n",
    "filter_words.append(test_game_state['secret_word'])\n",
    "for word in game_grid:\n",
    "    guess_word = \"\".join(word)\n",
    "    filter_words.append(guess_word)\n",
    "with open(file_name, 'r') as file:\n",
    "    all_words = [line.strip() for line in file.readlines() if len(line.strip())==word_len]\n",
    "filtered_word_list = list(filter(lambda x: x not in filter_words, all_words))\n",
    "unique_green_list = [dict(t) for t in {frozenset(d.items()) for d in green_letters}]\n",
    "print(f\"unique green list: {unique_green_list}\")\n",
    "for s in filtered_word_list:\n",
    "    all_match = True  # Flag to track if all characters match\n",
    "    for correct in unique_green_list:\n",
    "        char = correct['char']\n",
    "        index = correct['pos']\n",
    "        \n",
    "        # Ensure index is an integer (if it's a string, convert it to integer)\n",
    "        if isinstance(index, str):\n",
    "            index = int(index)  # Convert index to integer if it's a string\n",
    "        \n",
    "        if len(s) <= index or s[index] != char:  # Check if the char matches the string at the specified index\n",
    "            all_match = False\n",
    "            break  # Exit loop early if any condition fails\n",
    "\n",
    "    if all_match:  # If all characters matched at the correct positions, add the word to the hint_list\n",
    "        hint_list.append(s)\n",
    "for s in hint_list:\n",
    "    # Create a new string by omitting characters at the specified indices\n",
    "    modified_string = ''.join([s[i] for i in range(len(s)) if i not in green_letter_indices])\n",
    "    \n",
    "    # Check if the remaining characters match the condition (contains all chars in char_list)\n",
    "    if all(char in modified_string for char in yellow_letters):\n",
    "        filtered_hint_list.append(s)\n",
    "print(f\"hint list : \\n {filtered_hint_list}\")\n",
    "    "
   ]
  },
  {
   "cell_type": "code",
   "execution_count": 139,
   "metadata": {},
   "outputs": [],
   "source": [
    "persist_game_stats(game_state=game_state)"
   ]
  },
  {
   "cell_type": "code",
   "execution_count": 142,
   "metadata": {},
   "outputs": [],
   "source": [
    "def clear_game_state():\n",
    "    if os.path.exists(\"game_state.json\"):\n",
    "        os.remove(\"game_state.json\")"
   ]
  },
  {
   "cell_type": "code",
   "execution_count": null,
   "metadata": {},
   "outputs": [],
   "source": [
    "def reset_game(input_game_state, secret_word=None):\n",
    "    try:\n",
    "        global game_state\n",
    "        all_words_file = input_game_state['all_words_file']\n",
    "        wordle_words_file = input_game_state['wordle_words_file']\n",
    "        print(\"test11\")\n",
    "        show_popup(game_state,\"Restarting game\")\n",
    "        game_state = initialize_game(all_words_file, wordle_words_file, secret_word)\n",
    "    except Exception as e:\n",
    "        print(str(e))\n",
    "\n"
   ]
  },
  {
   "cell_type": "code",
   "execution_count": null,
   "metadata": {},
   "outputs": [],
   "source": [
    "def validate_guess(game_state):\n",
    "    valid_guess_ind = False\n",
    "    try:\n",
    "        all_words_file = game_state['all_words_file']\n",
    "        word_len = game_state['word_length']\n",
    "        file_name = os.path.join(resource_dir,all_words_file)\n",
    "        if os.path.isfile(file_name):\n",
    "            with open(file_name, 'r') as file:\n",
    "                lines = [line.strip() for line in file.readlines() if len(line.strip())==word_len]\n",
    "                if len(lines)==0:\n",
    "                    raise Exception(\"No valid words in all words file\")\n",
    "                else:\n",
    "                    i = game_state['i']\n",
    "                    current_guess = \"\".join(game_state['grid'][i])\n",
    "                    print(f\"Current guess : {current_guess}\")\n",
    "                    if len(current_guess) == word_len and current_guess in lines:\n",
    "                        valid_guess_ind = True\n",
    "                    else:\n",
    "                        show_popup(game_state,\"Invalid word\\nUse clear or delete to edit your guess\")\n",
    "        else:\n",
    "            raise Exception(\"No valid words in all words file\")\n",
    "        \n",
    "    except Exception as e:\n",
    "        print(str(e))\n",
    "    return valid_guess_ind\n",
    "\n"
   ]
  },
  {
   "cell_type": "code",
   "execution_count": null,
   "metadata": {},
   "outputs": [],
   "source": [
    "\n",
    "def process_guess(guess, secret_word):\n",
    "    #Assume the guess is list and secret word are str\n",
    "    color_list = []\n",
    "    guess_word = \"\".join(guess)\n",
    "    #secret_list = \",\".split(secret_word)\n",
    "    matched_list = []\n",
    "    #print(secret_list)\n",
    "    # check char in guess word whether it is present , if so,whether it is repeated\n",
    "    try:\n",
    "        if guess_word and secret_word:\n",
    "            if guess_word == secret_word:\n",
    "                color_list=['g','g','g','g','g']\n",
    "            else:\n",
    "                for i in range(5):\n",
    "                    if guess[i] in secret_word and guess[i] not in matched_list:\n",
    "                        if guess[i] == secret_word[i]:\n",
    "                            matched_list.append(secret_word[i])\n",
    "                            color_list.append('g')\n",
    "                            #secret_list[i] = '-'\n",
    "                        else:\n",
    "                            color_list.append('y')\n",
    "                    else:\n",
    "                        color_list.append('-')\n",
    "                        game_state['active_letters'][guess[i]] = False\n",
    "            #new_secret = \"\".join(secret_list)\n",
    "            #game_state['secret_word']=new_secret\n",
    "        else:\n",
    "            print(\"Either guess or secret_word is Empty\")\n",
    "\n",
    "    except Exception as e:\n",
    "        print(str(e))\n",
    "    return color_list\n"
   ]
  },
  {
   "cell_type": "code",
   "execution_count": null,
   "metadata": {},
   "outputs": [],
   "source": [
    "\n",
    "def process_command(game_state, command):\n",
    "    process_ind = True\n",
    "    i = game_state['i']\n",
    "    print(f\"i is {i}\")\n",
    "    j = game_state['j']\n",
    "    print(f\"j is {j}\")\n",
    "    word_len = game_state['word_length']\n",
    "    special_char_list = re.findall(r\"[^a-zA-Z0-9]+\", command)\n",
    "    command_list = ['delete','clear','enter','restart','share','history','quit']\n",
    "    try:\n",
    "        #print(f\"re.fullmatch('^[A-Z]+$|^[a-z]+$',command) : {re.fullmatch('^[A-Z]+$|^[a-z]+$',command)}\")\n",
    "        if len(command) > 1 and len(special_char_list)>0:\n",
    "            index = command.find(special_char_list[0])\n",
    "            word_str = command[:index]\n",
    "            if word_str in command_list:\n",
    "                process_command(game_state=game_state,command=word_str)\n",
    "            else:\n",
    "                if len(word_str) == word_len:\n",
    "                    word_str_list = word_str.split(\",\")\n",
    "                    for command in word_str_list:\n",
    "                        process_command(game_state=game_state,command=command)\n",
    "            process_command(game_state=game_state,command=special_char_list[0])\n",
    "        elif len(command)==1 and re.fullmatch('^[A-Z]+$|^[a-z]+$',command):\n",
    "            # check the length of current guess\n",
    "            print(\"test1\")\n",
    "            if j < word_len:\n",
    "                print(\"test2\")\n",
    "                game_state['grid'][i][j] = command\n",
    "                print(f\"{game_state['grid'][i][j]}\")\n",
    "                game_state['j'] = j+1\n",
    "            else:\n",
    "                message=\"Can't add more letters\\nUse clear or delete to edit your guess.\"\n",
    "                show_popup(game_state,message)\n",
    "        elif command == 'delete' or command == '-':\n",
    "            print(\"test3\")\n",
    "            game_state['grid'][i][j-1] = ''\n",
    "            j-=1\n",
    "            game_state['j'] = j\n",
    "        elif command == 'clear' or command == '_':\n",
    "            print(\"test4\")\n",
    "            game_state['grid'][i]=['','','','','']\n",
    "            j = 0\n",
    "            game_state['j'] = j\n",
    "            print(f\"{game_state['j']}\")\n",
    "        elif command == 'enter' or command == '+':\n",
    "            print(\"test5\")\n",
    "            if validate_guess(game_state):\n",
    "                print(\"test6\")\n",
    "                curr_guess = \"\".join(game_state['grid'][i])\n",
    "                color_list = process_guess(curr_guess,game_state['secret_word'])\n",
    "                print(f\"color_list is {color_list}\")\n",
    "                game_state['colour_grid'][i]=color_list\n",
    "                game_state['max_guesses'] -=1\n",
    "                if len(set(game_state['colour_grid'][i])) == 1 and set(game_state['colour_grid'][i])=='g':\n",
    "                    print(\"test7\")\n",
    "                    game_state['status']='won'\n",
    "                    update_game_history(game_history,game_state)\n",
    "                    clear_game_state()\n",
    "                    show_popup(game_state,\"You won!\")\n",
    "                    process_ind = False\n",
    "                else:\n",
    "                    print(\"test8\")\n",
    "                    if game_state['max_guesses']==0 and game_state['i']==word_len:\n",
    "                        print(\"test9\")\n",
    "                        game_state['status']='lost'\n",
    "                        update_game_history(game_history,game_state)\n",
    "                        clear_game_state()\n",
    "                        message = f\"You lose! The word was {game_state['secret_word']}\"\n",
    "                        show_popup(game_state,message)\n",
    "                        process_ind = False\n",
    "                    else:\n",
    "                        print(\"test10\")\n",
    "                        game_state['i'] += 1\n",
    "                        game_state['j'] = 0\n",
    "        elif command == 'restart' or command == '!':\n",
    "            print(\"test\")\n",
    "            message=f\"You have chosen to restart! The word was {game_state['secret_word']}\"\n",
    "            show_popup(game_state,message)           \n",
    "            reset_game(game_state)\n",
    "        elif command == 'share' or command =='@':\n",
    "            game_status = game_state['status']\n",
    "            game_result_str = \"\"\n",
    "            if game_status == 'won' or game_status == 'lost':\n",
    "                guess_result = \"\"\n",
    "                results_list = game_state['color_grid']\n",
    "                for guess_result in results_list:\n",
    "                    for char_result in guess_result:\n",
    "                        if char_result == 'g':\n",
    "                            unicode_char = \"\\U0001F7E9\"\n",
    "                        elif char_result == 'y':\n",
    "                            unicode_char = \"\\U0001F7E8\"\n",
    "                        elif char_result == '-':\n",
    "                            unicode_char = \"\\U00002B1C\"\n",
    "                        guess_result=str(guess_result)+ str(unicode_char)\n",
    "                    game_result_str=str(game_result_str)+str(guess_result+\"\\n\")  \n",
    "                show_popup(game_state=game_state,content=game_result_str,mode=\"share\")\n",
    "        elif command == 'history':\n",
    "            if os.path.exists(\"game_history.txt\"):\n",
    "                with open(\"game_history.txt\", \"r\") as file:\n",
    "                    data = file.read().strip().split(\",\")\n",
    "                    history = [int(x) for x in data]  \n",
    "                    show_popup(game_state=game_state,content=history,mode=\"history\")\n",
    "        elif command == 'quit':\n",
    "            process_ind = False\n",
    "            message = \"You have chosen to quit! Game progress will be saved!\"\n",
    "            show_popup(game_state=game_state,content=history,mode=\"text\")\n",
    "            sys.exit()    \n",
    "        else:\n",
    "            show_popup(game_state,\"Invalid command\")\n",
    "        print(game_state)\n",
    "    except KeyboardInterrupt as err:\n",
    "        persist_game_stats(game_state)\n",
    "        print(str(err))\n",
    "    except SystemExit as sysexit:\n",
    "        persist_game_stats(game_state)\n",
    "        print(str(sysexit))\n",
    "    except Exception as e:\n",
    "        persist_game_stats(game_state)\n",
    "        print(str(e))\n",
    "    return process_ind\n"
   ]
  },
  {
   "cell_type": "code",
   "execution_count": 34,
   "metadata": {},
   "outputs": [
    {
     "name": "stdout",
     "output_type": "stream",
     "text": [
      "🟩⬜🟨\n",
      "⬜\n",
      "🟨\n",
      "⬛\n"
     ]
    }
   ],
   "source": [
    "print(\"\\U0001F7E9\\U00002B1C\\U0001F7E8\")\n",
    "print(\"\\U00002B1C\")\n",
    "print(\"\\U0001F7E8\")\n",
    "print(\"\\U00002B1B\")"
   ]
  },
  {
   "cell_type": "code",
   "execution_count": 238,
   "metadata": {},
   "outputs": [
    {
     "name": "stdout",
     "output_type": "stream",
     "text": [
      "{'secret_word': 'sneer', 'word_length': 5, 'max_guesses': 0, 'grid': [['c', 'h', 'e', 'e', 'r'], ['c', 'h', 'o', 's', 'e'], ['c', 'h', 'o', 'o', 'k'], ['f', 'l', 'a', 'n', 'k'], ['f', 'l', 'a', 'w', 'n'], ['f', 'l', 'e', 'e', 'k']], 'colour_grid': [['-', '-', 'g', '-', 'g'], ['-', '-', '-', 'y', 'y'], ['-', '-', '-', '-', '-'], ['-', '-', '-', 'y', '-'], ['-', '-', '-', '-', 'y'], ['-', '-', 'g', '-', '-']], 'i': 5, 'j': 5, 'status': 'lost', 'wordle_words_file': 'wordle_words.txt', 'all_words_file': 'english_dict.txt', 'popup_queue': [], 'active_letters': {}}\n"
     ]
    }
   ],
   "source": [
    "print(game_state)\n",
    "#game_state['j']=5"
   ]
  },
  {
   "cell_type": "code",
   "execution_count": 230,
   "metadata": {},
   "outputs": [],
   "source": [
    "game_state['status']='playing'"
   ]
  },
  {
   "cell_type": "code",
   "execution_count": 228,
   "metadata": {},
   "outputs": [],
   "source": [
    "game_state['colour_grid'][5]=['w','w','w','w','w']"
   ]
  },
  {
   "cell_type": "code",
   "execution_count": 226,
   "metadata": {},
   "outputs": [],
   "source": [
    "\n",
    "game_state['max_guesses']=1"
   ]
  },
  {
   "cell_type": "code",
   "execution_count": 231,
   "metadata": {},
   "outputs": [],
   "source": [
    "game_state['i']=5\n",
    "game_state['j']=5"
   ]
  },
  {
   "cell_type": "code",
   "execution_count": 259,
   "metadata": {},
   "outputs": [
    {
     "name": "stdout",
     "output_type": "stream",
     "text": [
      "i is 0\n",
      "j is 0\n",
      "re.fullmatch('^[A-Z]+$|^[a-z]+$',command) : <regex.Match object; span=(0, 7), match='restart'>\n",
      "test\n",
      "test11\n",
      "{'secret_word': 'boule', 'word_length': 5, 'max_guesses': 6, 'grid': [['', '', '', '', ''], ['', '', '', '', ''], ['', '', '', '', ''], ['', '', '', '', ''], ['', '', '', '', ''], ['', '', '', '', '']], 'colour_grid': [['w', 'w', 'w', 'w', 'w'], ['w', 'w', 'w', 'w', 'w'], ['w', 'w', 'w', 'w', 'w'], ['w', 'w', 'w', 'w', 'w'], ['w', 'w', 'w', 'w', 'w'], ['w', 'w', 'w', 'w', 'w']], 'i': 0, 'j': 0, 'status': 'playing', 'wordle_words_file': 'wordle_words.txt', 'all_words_file': 'english_dict.txt', 'popup_queue': [], 'active_letters': {}}\n"
     ]
    },
    {
     "data": {
      "text/plain": [
       "True"
      ]
     },
     "execution_count": 259,
     "metadata": {},
     "output_type": "execute_result"
    }
   ],
   "source": [
    "process_command(game_state=game_state,command='restart')\n"
   ]
  },
  {
   "cell_type": "code",
   "execution_count": null,
   "metadata": {},
   "outputs": [],
   "source": []
  }
 ],
 "metadata": {
  "kernelspec": {
   "display_name": "base",
   "language": "python",
   "name": "python3"
  },
  "language_info": {
   "codemirror_mode": {
    "name": "ipython",
    "version": 3
   },
   "file_extension": ".py",
   "mimetype": "text/x-python",
   "name": "python",
   "nbconvert_exporter": "python",
   "pygments_lexer": "ipython3",
   "version": "3.12.4"
  }
 },
 "nbformat": 4,
 "nbformat_minor": 2
}
